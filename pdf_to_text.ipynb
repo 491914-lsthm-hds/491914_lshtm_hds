{
 "cells": [
  {
   "cell_type": "markdown",
   "metadata": {},
   "source": [
    "#### PDF TO TEXT EXTRACTION\n",
    "\n",
    "Since GPT-4 is a text only LLM, the medical article PDFs need to be converted to text files.\n",
    "This notebook will demonstrate how this is done, using the PyMuPDF library."
   ]
  },
  {
   "cell_type": "code",
   "execution_count": 2,
   "metadata": {},
   "outputs": [
    {
     "data": {
      "text/plain": [
       "'c:\\\\Users\\\\User\\\\Documents\\\\491914_hds_thesis'"
      ]
     },
     "execution_count": 2,
     "metadata": {},
     "output_type": "execute_result"
    }
   ],
   "source": [
    "import sys, pathlib, pymupdf, os\n",
    "project_directory = os.getcwd()\n",
    "project_directory"
   ]
  },
  {
   "cell_type": "code",
   "execution_count": 3,
   "metadata": {},
   "outputs": [],
   "source": [
    "# Creating a list of PDF paths \n",
    "pdf_paths = []\n",
    "pdf_folder = f\"{project_directory}\" + \"\\\\data\\\\pdf_files\"\n",
    "\n",
    "# Walk through each directory and file in the specified path\n",
    "for dirpath, dirnames, filenames in os.walk(pdf_folder):\n",
    "    for filename in filenames:\n",
    "        file_path = os.path.join(dirpath, filename)\n",
    "        pdf_paths.append(file_path)"
   ]
  },
  {
   "cell_type": "code",
   "execution_count": 4,
   "metadata": {},
   "outputs": [],
   "source": [
    "# Path to the text output directory\n",
    "output_path = f\"{project_directory}\" + \"\\\\text_files\""
   ]
  },
  {
   "cell_type": "code",
   "execution_count": 5,
   "metadata": {},
   "outputs": [],
   "source": [
    "def get_text_from_pdf(input_path):\n",
    "    doc = pymupdf.open(input_path) # open a document\n",
    "    header = \"Header\"  # text in header\n",
    "    footer = \"Page %i of %i\"  # text in footer\n",
    "\n",
    "    output_directory = output_path  # Getting the name of the output directory\n",
    "    input_filename = os.path.basename(input_path) # Getting the filename\n",
    "    input_filename = input_filename[:-4] + '.txt' # Removing the PDF part and adding txt\n",
    "    output_file_path = os.path.join(output_directory, input_filename) # Creating the path to the output file\n",
    "\n",
    "    out = open(output_file_path, \"wb\") # create a text output\n",
    "    for page in doc: # iterate the document pages\n",
    "        text = page.get_text().encode(\"utf8\") # get plain text \n",
    "        out.write(text) # write text of page\n",
    "        out.write(bytes((12,))) # write page delimiter\n",
    "    out.close()"
   ]
  },
  {
   "cell_type": "code",
   "execution_count": 6,
   "metadata": {},
   "outputs": [],
   "source": [
    "for path in pdf_paths:\n",
    "    # Get full text from PDF\n",
    "    pdf_text = get_text_from_pdf(path)"
   ]
  }
 ],
 "metadata": {
  "kernelspec": {
   "display_name": "Python 3",
   "language": "python",
   "name": "python3"
  },
  "language_info": {
   "codemirror_mode": {
    "name": "ipython",
    "version": 3
   },
   "file_extension": ".py",
   "mimetype": "text/x-python",
   "name": "python",
   "nbconvert_exporter": "python",
   "pygments_lexer": "ipython3",
   "version": "3.10.5"
  }
 },
 "nbformat": 4,
 "nbformat_minor": 2
}
